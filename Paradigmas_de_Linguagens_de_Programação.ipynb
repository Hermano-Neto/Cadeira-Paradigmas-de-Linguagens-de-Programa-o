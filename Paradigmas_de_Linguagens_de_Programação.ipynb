{
  "nbformat": 4,
  "nbformat_minor": 0,
  "metadata": {
    "colab": {
      "provenance": [],
      "authorship_tag": "ABX9TyPVlff7HAUk4DeKEf2UAt2b",
      "include_colab_link": true
    },
    "kernelspec": {
      "name": "python3",
      "display_name": "Python 3"
    },
    "language_info": {
      "name": "python"
    }
  },
  "cells": [
    {
      "cell_type": "markdown",
      "metadata": {
        "id": "view-in-github",
        "colab_type": "text"
      },
      "source": [
        "<a href=\"https://colab.research.google.com/github/Hermano-Neto/Cadeira-Paradigmas-de-Linguagens-de-Programa-o/blob/main/Paradigmas_de_Linguagens_de_Programa%C3%A7%C3%A3o.ipynb\" target=\"_parent\"><img src=\"https://colab.research.google.com/assets/colab-badge.svg\" alt=\"Open In Colab\"/></a>"
      ]
    },
    {
      "cell_type": "markdown",
      "source": [
        "#### Programa 01 - Linguagem Python\n",
        "#### Autor> Hermano Neto\n",
        "#### Data: 18/08/2023\n",
        "#### Linguagem: python\n"
      ],
      "metadata": {
        "id": "ix7eINd5bIcW"
      }
    },
    {
      "cell_type": "markdown",
      "source": [
        "# Aula 1"
      ],
      "metadata": {
        "id": "fvVwhzqVfD_H"
      }
    },
    {
      "cell_type": "markdown",
      "source": [
        "## Questão 1: Descrição narrativa: Faça uma programação que leia duas notas e calcule sua média e depois informe se o aluno foi aprovado ou reprovado, dado que a média é  >= 7 para ser aprovado."
      ],
      "metadata": {
        "id": "8ur98sk9bs2g"
      }
    },
    {
      "cell_type": "code",
      "source": [
        "# Leitura de dados de entrada\n",
        "n1 = float(input('Informe o valor da A1: '))\n",
        "n2 = float(input('Informe o valor da A2: '))\n",
        "\n",
        "# calcular a media\n",
        "media = (n1 +n2)/2\n",
        "\n",
        "# Estrutura de decisão com if para verificar se o aluno foi aprovado e ou reprovado\n",
        "if media >=7:\n",
        "  rep = 'Aprovado'\n",
        "\n",
        "else:\n",
        "  rep = 'Reprovado'\n",
        "\n",
        "# Escreva os resultados obtidos\n",
        "print(f'A media do aluno foi: {media}')\n",
        "print(f'O status do aluno é: {rep}')"
      ],
      "metadata": {
        "colab": {
          "base_uri": "https://localhost:8080/"
        },
        "id": "o74gR5Sab1be",
        "outputId": "2073ad9a-8870-420f-f0f4-2a7c4a8b775a"
      },
      "execution_count": 1,
      "outputs": [
        {
          "output_type": "stream",
          "name": "stdout",
          "text": [
            "Informe o valor da A1: 7\n",
            "Informe o valor da A2: 6.5\n",
            "A media do aluno foi: 6.75\n",
            "O status do aluno é: Reprovado\n"
          ]
        }
      ]
    },
    {
      "cell_type": "markdown",
      "source": [
        "## Questão 2:"
      ],
      "metadata": {
        "id": "kkfeF0lEFagZ"
      }
    },
    {
      "cell_type": "code",
      "source": [
        "# Calcula media das notas, indepentementente da quantidade de avaliações\n",
        "def calcula_media(notas):\n",
        "  soma = 0\n",
        "  for i in range(len(notas)):\n",
        "    soma += notas[i]\n",
        "\n",
        "  media = soma / len(notas)\n",
        "\n",
        "  return media\n",
        "\n",
        "# Verifica o status do aluno, se ele foi aprovado, reprovado ou está na final\n",
        "def verifica_aprovacao(media):\n",
        "  if media >= 7:\n",
        "    status = 'Aprovado'\n",
        "\n",
        "  elif 7 > media >= 4:\n",
        "    status = 'Está na final'\n",
        "\n",
        "  else:\n",
        "    status = 'Reprovado'\n",
        "\n",
        "  return status\n",
        "\n",
        "\n",
        "def proc_final(media):\n",
        "  nota = float(input(f'Informe o valor da sua final: '))\n",
        "  nov_media = (media + nota)/1.5\n",
        "\n",
        "  if nov_media >= 7:\n",
        "    nov_media = 7\n",
        "    print(f'Você está aprovado, sua nova média é {nov_media}')\n",
        "\n",
        "    return\n",
        "\n",
        "  else:\n",
        "    print('Você esta definitivamente reprovado')\n",
        "\n",
        "    return\n",
        "\n",
        "def mostra_status(status, media):\n",
        "  print(f'Sua média é: {media}')\n",
        "  if status == 'Aprovado':\n",
        "    print('Muito bem você está aprovado')\n",
        "\n",
        "  elif status == 'Reprovado':\n",
        "    print('Infelizmente você está reprovado ):')\n",
        "\n",
        "  else:\n",
        "    print('Você está na final...')\n",
        "    proc_final(media)\n",
        "\n",
        "  return\n",
        "\n",
        "quant = int(input(f'Informe a quantidade de avaliações: '))\n",
        "notas = list()\n",
        "\n",
        "for i in range(quant):\n",
        "  nota = float(input(f'Informe o valor da A{i}: '))\n",
        "  notas.append(nota)\n",
        "\n",
        "\n",
        "# Calcula media das notaas, indepentementente da quantidade de avaliações\n",
        "media = calcula_media(notas)\n",
        "\n",
        "# Verifica o status do aluno, se ele foi aprovado, reprovado ou está na final\n",
        "status = verifica_aprovacao(media)\n",
        "\n",
        "# apresenta ao aluno se ele esta aprovado, na final ou reprovado\n",
        "mostra_status(status, media)"
      ],
      "metadata": {
        "id": "d0IgtVD7eaAW",
        "colab": {
          "base_uri": "https://localhost:8080/"
        },
        "outputId": "62164234-f300-4b69-dd06-eca930927077"
      },
      "execution_count": 2,
      "outputs": [
        {
          "output_type": "stream",
          "name": "stdout",
          "text": [
            "Informe a quantidade de avaliações: 4\n",
            "Informe o valor da A0: 2\n",
            "Informe o valor da A1: 10\n",
            "Informe o valor da A2: 10\n",
            "Informe o valor da A3: 8\n",
            "Sua média é: 7.5\n",
            "Muito bem você está aprovado\n"
          ]
        }
      ]
    },
    {
      "cell_type": "markdown",
      "source": [
        "## Questão 3:"
      ],
      "metadata": {
        "id": "bYD7XddJFjGx"
      }
    },
    {
      "cell_type": "code",
      "source": [
        "preco = float(input(\"Digite o preço da mercadoria: \"))\n",
        "desconto = float(input(\"Digite o percentual de desconto: \"))\n",
        "valor_do_desconto = (preco * desconto) / 100\n",
        "a_pagar = preco - valor_do_desconto\n",
        "print(\"Um desconto de %.2f%% em uma mercadoria de R$ %.2f\" % (desconto, preco))\n",
        "print(\"vale R$ %.2f.\" % valor_do_desconto)\n",
        "print(\"O valor a pagar é de R$ %.2f\" % a_pagar)"
      ],
      "metadata": {
        "id": "2sRBAqSwoq7J",
        "colab": {
          "base_uri": "https://localhost:8080/"
        },
        "outputId": "321a0456-6cd0-4e01-ef99-8fa48da2a397"
      },
      "execution_count": 3,
      "outputs": [
        {
          "output_type": "stream",
          "name": "stdout",
          "text": [
            "Digite o preço da mercadoria: 200\n",
            "Digite o percentual de desconto: 1.1\n",
            "Um desconto de 1.10% em uma mercadoria de R$ 200.00\n",
            "vale R$ 2.20.\n",
            "O valor a pagar é de R$ 197.80\n"
          ]
        }
      ]
    },
    {
      "cell_type": "code",
      "source": [
        "def calc_desconto(preco, desconto):\n",
        "  valor_do_desconto = (preco * desconto) / 100\n",
        "  return valor_do_desconto\n",
        "\n",
        "def calc_valor(valor_do_desconto):\n",
        "  a_pagar = preco - valor_do_desconto\n",
        "\n",
        "  return a_pagar"
      ],
      "metadata": {
        "id": "WNywBR6jrz6F"
      },
      "execution_count": 4,
      "outputs": []
    },
    {
      "cell_type": "code",
      "source": [
        "preco = float(input(\"Digite o preço da mercadoria: \"))\n",
        "desconto = float(input(\"Digite o percentual de desconto: \"))\n",
        "\n",
        "\n",
        "\n",
        "print(f\"Um desconto de {desconto:.2f}% em uma mercadoria de R$ {preco}\")\n",
        "print(f\"vale R$ {valor_do_desconto}\" )\n",
        "print(f\"O valor a pagar é de R$ {a_pagar}\")\n"
      ],
      "metadata": {
        "id": "D5VSEQF4qwzb",
        "colab": {
          "base_uri": "https://localhost:8080/"
        },
        "outputId": "6602890d-1d2f-4e86-81c4-472b211c2e60"
      },
      "execution_count": 5,
      "outputs": [
        {
          "output_type": "stream",
          "name": "stdout",
          "text": [
            "Digite o preço da mercadoria: 200\n",
            "Digite o percentual de desconto: 1.2\n",
            "Um desconto de 1.20% em uma mercadoria de R$ 200.0\n",
            "vale R$ 2.2\n",
            "O valor a pagar é de R$ 197.8\n"
          ]
        }
      ]
    },
    {
      "cell_type": "markdown",
      "source": [
        "## Questão 4:"
      ],
      "metadata": {
        "id": "3veQ_QHyFmFW"
      }
    },
    {
      "cell_type": "code",
      "source": [
        "cigarros_dia = int(input(\"Quantidade de cigarros por dia: \"))\n",
        "anos_fumando = float(input(\"Quantidade de anos fumando: \"))\n",
        "reducao_min = anos_fumando * 365 * cigarros_dia * 10\n",
        "\n",
        "# Um dia tem 24 x 60 minutos\n",
        "redução_em_dias = reducao_min / (24 * 60)\n",
        "print(\"Redução do tempo de vida %8.2f dias.\" % redução_em_dias)"
      ],
      "metadata": {
        "id": "zunuCWFBuHmw",
        "colab": {
          "base_uri": "https://localhost:8080/"
        },
        "outputId": "4e79e3b8-9e09-41e1-abbc-cd19f2385084"
      },
      "execution_count": 11,
      "outputs": [
        {
          "output_type": "stream",
          "name": "stdout",
          "text": [
            "Quantidade de cigarros por dia: 18\n",
            "Quantidade de anos fumando: 32\n",
            "Redução do tempo de vida  1460.00 dias.\n"
          ]
        }
      ]
    },
    {
      "cell_type": "code",
      "source": [
        "# Função que calcula a redução de tempo de vida de um fumante em minutos\n",
        "def perda_vida(cigarros_dia, anos_fumando):\n",
        "  reducao_mins = anos_fumando * 365 * cigarros_dia * 10\n",
        "\n",
        "  return reducao_mins\n",
        "\n",
        "# Calcula o tempo perdido de vida do fumante em dias\n",
        "def red_dias(reducao_mins):\n",
        "  reducao_diass = reducao_mins / (24 * 60)\n",
        "  return reducao_diass"
      ],
      "metadata": {
        "id": "VthnM3geumgT"
      },
      "execution_count": 27,
      "outputs": []
    },
    {
      "cell_type": "code",
      "source": [
        "cigarros_dias = int(input(\"Quantidade de cigarros por dia: \"))\n",
        "anos_fumand = float(input(\"Quantidade de anos fumando: \"))\n",
        "\n",
        "temp_perdid = perda_vida(cigarros_dias, anos_fumand)\n",
        "reducao_dia = red_dias(temp_perdid)\n",
        "print(f'Redução do tempo de vida {reducao_dia:.2f} dias.')"
      ],
      "metadata": {
        "id": "auMUEmOgvH5b",
        "colab": {
          "base_uri": "https://localhost:8080/"
        },
        "outputId": "bf2bcbb6-6eaf-48d3-f470-2c2c7e43f039"
      },
      "execution_count": 28,
      "outputs": [
        {
          "output_type": "stream",
          "name": "stdout",
          "text": [
            "Quantidade de cigarros por dia: 2\n",
            "Quantidade de anos fumando: 2\n",
            "Redução do tempo de vida 10.14 dias.\n"
          ]
        }
      ]
    },
    {
      "cell_type": "markdown",
      "source": [
        "# Aula 2"
      ],
      "metadata": {
        "id": "RlL-NpDKfJ8v"
      }
    },
    {
      "cell_type": "markdown",
      "source": [
        "### Paradigma estruturado.(exercícios)\n",
        "#### -> Estruturado de decisão\n",
        "#### -> Estruturado de repetição\n",
        "#### -> Vetorização\n",
        "#### -> Linguagem python e java"
      ],
      "metadata": {
        "id": "6a2jX4_ifXW0"
      }
    },
    {
      "cell_type": "markdown",
      "source": [
        "### Paradigma orientado a objetos\n",
        "#### -> Classes, atributos e métodos\n",
        "#### -> Generalização (herança)\n",
        "#### -> Composição X agregação\n",
        "#### -> Transformação entre modelos práticas\n"
      ],
      "metadata": {
        "id": "2PRSglVWf2rX"
      }
    },
    {
      "cell_type": "markdown",
      "source": [
        "## Exercícios:"
      ],
      "metadata": {
        "id": "PTGGfqS-icgg"
      }
    },
    {
      "cell_type": "markdown",
      "source": [
        "### Escreva um programa que pergunte o salário do funcionário e calcule o valor do aumento. Para salários superiores a R$ 1.250,00, calcule um aumento de 10%. Para os inferiores ou iguais , de 15%."
      ],
      "metadata": {
        "id": "lpIpY3NQif-4"
      }
    },
    {
      "cell_type": "code",
      "source": [
        "salario = float(input('Qual o seu salário? '))\n",
        "\n",
        "def aumento(salario):\n",
        "  if salario > 1250.00:\n",
        "    novo_salario = salario * 1.1\n",
        "\n",
        "  else:\n",
        "    novo_salario = salario * 1.15\n",
        "\n",
        "  return novo_salario\n",
        "\n",
        "novo_salario = aumento(salario)\n",
        "print(f'O seu novo salario com aumento é igual a: R$ {novo_salario:.2f}')"
      ],
      "metadata": {
        "colab": {
          "base_uri": "https://localhost:8080/"
        },
        "id": "PR0VPlURiyqX",
        "outputId": "67d15cf6-c7fe-47e3-802e-c35b8c46bd99"
      },
      "execution_count": null,
      "outputs": [
        {
          "output_type": "stream",
          "name": "stdout",
          "text": [
            "Qual o seu salário? 1500\n",
            "O seu novo salario com aumento é igual a: R$ 1650.00\n"
          ]
        }
      ]
    },
    {
      "cell_type": "markdown",
      "source": [
        "# Aula 4"
      ],
      "metadata": {
        "id": "8q0cAm1fi0gC"
      }
    },
    {
      "cell_type": "markdown",
      "source": [
        "## Roteiro de aula:\n",
        "  - Paradigma estruturado  (Vs code, Pycharm, Sublime)\n",
        "    - Vetores  (exemplos em python (5 exercícios))\n",
        "    - Matrizes\n",
        "      - Conceitos e práticas\n",
        "\n",
        "  - Paradigma orientado a objetos\n",
        "    - Modelagem UML (Diagrama de classes)   (starUML, astar uml, argo uml)\n",
        "      - Sistema de gerenciamento comercial\n",
        "\n",
        "  - Modelagem de banco de dados\n",
        "    - Diagrama ER  (conceitual)\n",
        "    - Diagrama Lógico\n",
        "    - Modelo difuso\n",
        "    - Modelo físico (SQL + DDL(DML). práticas)\n",
        "    - (PgAdmin4)**negrito**\n",
        "      - Implementação no postgreSQL\n"
      ],
      "metadata": {
        "id": "xLuyIcEu2pKV"
      }
    },
    {
      "cell_type": "markdown",
      "source": [
        "### Questão 1: Le um vetor de 8 posições e, em seguida, le dois valores X e Y quaisquer orrespondentes a duas posições no vetor. O programa então imprime a soma dos valores encontrados nas respectivas posições X e Y.\n"
      ],
      "metadata": {
        "id": "sSFwWVi_jmLP"
      }
    },
    {
      "cell_type": "code",
      "source": [
        "lista = list()\n",
        "\n",
        "for i in range(8):\n",
        "  valor = int(input(f'Digite o valor da posição {i}: '))\n",
        "  lista.append(valor)\n",
        "\n",
        "V1 = int(input('Digite qual posição você quer encontrar: '))\n",
        "V2 = int(input('Digite qual a outra posição que você quer encontrar: '))\n",
        "\n",
        "soma = lista[V1] + lista[V2]\n",
        "\n",
        "print(f'A soma dos valores de posição {V1} e {V2} é igual a: {soma}')"
      ],
      "metadata": {
        "colab": {
          "base_uri": "https://localhost:8080/"
        },
        "id": "JyuonWW4i4EO",
        "outputId": "e5bf52a6-c41c-4a9a-bdaf-b4ab1cd566d5"
      },
      "execution_count": null,
      "outputs": [
        {
          "output_type": "stream",
          "name": "stdout",
          "text": [
            "Digite o valor da posição 0: 1\n",
            "Digite o valor da posição 1: 2\n",
            "Digite o valor da posição 2: 3\n",
            "Digite o valor da posição 3: 4\n",
            "Digite o valor da posição 4: 5\n",
            "Digite o valor da posição 5: 6\n",
            "Digite o valor da posição 6: 7\n",
            "Digite o valor da posição 7: 8\n",
            "Digite qual posição você quer encontrar: 1\n",
            "Digite qual a outra posição que você quer encontrar: 2\n",
            "A soma dos valores de posição 1 e 2 é igual a: 5\n"
          ]
        }
      ]
    },
    {
      "cell_type": "markdown",
      "source": [
        "### Questão 2: Faça um programa em Python que receba do usuário um vetor com 10 posições. Em seguida devera ser impresso o maior e o menor elemento do vetor."
      ],
      "metadata": {
        "id": "7crFod4ymsWV"
      }
    },
    {
      "cell_type": "code",
      "source": [
        "lista = list()\n",
        "for i in range(10):\n",
        "  valor = int(input(f'Digite o valor da posição {i}: '))\n",
        "  lista.append(valor)\n",
        "\n",
        "maior = lista[0]\n",
        "menor = lista[0]\n",
        "\n",
        "for valor in lista:\n",
        "  if valor > maior:\n",
        "    maior = valor\n",
        "\n",
        "  elif valor < menor:\n",
        "    menor = valor\n",
        "\n",
        "print(f'O maior valor da lista é: {maior}')\n",
        "print(f'O menor valor da lista e: {menor}')"
      ],
      "metadata": {
        "colab": {
          "base_uri": "https://localhost:8080/"
        },
        "id": "oPoZPsGnm9DH",
        "outputId": "a9ebd715-7160-40f9-e923-0b58c964f9b3"
      },
      "execution_count": null,
      "outputs": [
        {
          "output_type": "stream",
          "name": "stdout",
          "text": [
            "Digite o valor da posição 0: 0\n",
            "Digite o valor da posição 1: 1\n",
            "Digite o valor da posição 2: 2\n",
            "Digite o valor da posição 3: 3\n",
            "Digite o valor da posição 4: 4\n",
            "Digite o valor da posição 5: 5\n",
            "Digite o valor da posição 6: 6\n",
            "Digite o valor da posição 7: 7\n",
            "Digite o valor da posição 8: 8\n",
            "Digite o valor da posição 9: 9\n",
            "O maior valor da lista é: 9\n",
            "O menor valor da lista e: 0\n"
          ]
        }
      ]
    },
    {
      "cell_type": "markdown",
      "source": [
        "### Questões práticas\n",
        "\n"
      ],
      "metadata": {
        "id": "0Dl2LW6b3xVP"
      }
    },
    {
      "cell_type": "markdown",
      "source": [
        "### Questão 1:\n",
        "formas:\n",
        "  - descrição narrativa:\n",
        "      - Faça uma programação que leia duas notas e calcule sua média e depois informe se o aluno foi aprovado ou reprovado, dado que a média é  >= 7 para ser aprovado.\n",
        "\n",
        "  - Fluxograma\n",
        "\n",
        "  ![Fluxograma_paradigmas.png](data:image/png;base64,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)\n",
        "\n",
        "  - Linguagem algorítmica:\n",
        "\t\t    leia (n1, n2)\n",
        "\t\t    med = (n1+n2) /2\n",
        "\t\t    if (med >=7)\n",
        "\t\t\t    rep = ‘Aprovado’\n",
        "\t\t    else:\n",
        "\t\t\t    rep = ‘Reprovado’\n",
        "\t\t    print(med)\n",
        "\t\t    print(rep)"
      ],
      "metadata": {
        "id": "QO6Td-uYEGpz"
      }
    },
    {
      "cell_type": "markdown",
      "source": [
        "#### Questão 2: realizar a base para um sistema de banco\n",
        " - Código SQL\n",
        "\n",
        "    create database bemais;\n",
        "\n",
        "    use bemais;\n",
        "\n",
        "    CREATE TABLE Cliente\n",
        "    (\n",
        "    email VARCHAR(100),  \n",
        "    nmCliente VARCHAR(100),  \n",
        "    idCliente INT PRIMARY KEY  \n",
        "\n",
        "    );\n",
        "\n",
        "    CREATE TABLE Pedido\n",
        "    (\n",
        "    totalPagar FLOAT,  \n",
        "    dtPedido DATE,  \n",
        "    idPedido INT PRIMARY KEY,  \n",
        "    idCliente INT\n",
        "\n",
        "    );\n",
        "\n",
        "    CREATE TABLE Produto\n",
        "    (\n",
        "    nmPedido INT,  \n",
        "    valUnitario INT,  \n",
        "    idProduto INT PRIMARY KEY  \n",
        "\n",
        "    );\n",
        "\n",
        "    CREATE TABLE Item\n",
        "    (\n",
        "    idProduto INT PRIMARY KEY,  \n",
        "    idPedido INT\n",
        "    \n",
        "    );\n",
        "\n",
        "    ALTER TABLE Pedido ADD FOREIGN KEY(idCliente) REFERENCES Cliente (idCliente);\n",
        "    ALTER TABLE Item ADD FOREIGN KEY(idProduto) REFERENCES Produto (idProduto);\n",
        "    ALTER TABLE Item ADD FOREIGN KEY(idPedido) REFERENCES Pedido (idPedido);\n"
      ],
      "metadata": {
        "id": "rYYKJhskEmku"
      }
    },
    {
      "cell_type": "markdown",
      "source": [
        "# Aula 5\n",
        "\n"
      ],
      "metadata": {
        "id": "DSTx5Ae1mkpS"
      }
    },
    {
      "cell_type": "markdown",
      "source": [
        "## Paradigma estruturado\n",
        "- Estrutura de dados (Práticas: python)\n",
        "  - Vetor            \n",
        "  - Matriz\n",
        "  - Dicionários\n",
        "\n",
        "- Paradigma orientado a objetos\n",
        "  - Modular\n",
        "    - Arquitetura de componentes(MVC)\n",
        "    - Linhas de produtos de software\n",
        "    - Modelagem de fábrica de carros\n",
        "      - Herança, polimorfismo, interface, sobrecarga de métodos e atributos, agregação, composição, herança múltipla..\n"
      ],
      "metadata": {
        "id": "60mQpGiK2cLO"
      }
    },
    {
      "cell_type": "markdown",
      "source": [
        "### Questão 1: faça um programa em python que receba 6 numeros inteiros e mostre:\n",
        "  - Os numeros pares digitados\n",
        "  - A soma dos numeros pares digitados\n",
        "  - Os numeros impares digitados\n",
        "  - Aquantidade de números impares"
      ],
      "metadata": {
        "id": "XTy94mNBms8R"
      }
    },
    {
      "cell_type": "code",
      "source": [
        "pares = []\n",
        "impares = []\n",
        "soma_par = 0\n",
        "soma_impar = 0\n",
        "\n",
        "\n",
        "for i in range(1, 7):\n",
        "  valor = int(input(f'Digite o {i}º número: '))\n",
        "\n",
        "  if valor % 2 == 0:\n",
        "    pares.append(valor)\n",
        "    soma_par += valor\n",
        "\n",
        "  else:\n",
        "    impares.append(valor)\n",
        "    soma_impar += valor\n",
        "\n",
        "print(f'Foi digitado {len(pares)} números pares, sendo eles: {pares}')\n",
        "print(f'A soma dos valores pares é: {soma_par}')\n",
        "print(f'O maior elemento dos pares é: {max(pares)}')\n",
        "print(f'---'*15)\n",
        "print(f'Foi digitado {len(impares)} números impares, sendo eles: {impares}')\n",
        "print(f'A soma dos valores impares é: {soma_impar}')\n",
        "print(f'O maior elemento dos impares é: {max(impares)}')"
      ],
      "metadata": {
        "colab": {
          "base_uri": "https://localhost:8080/"
        },
        "id": "dRZUAjHdnERo",
        "outputId": "733af80f-a8c1-4d8f-8ca0-45958ffe7494"
      },
      "execution_count": 30,
      "outputs": [
        {
          "output_type": "stream",
          "name": "stdout",
          "text": [
            "Digite o 1º número: 4\n",
            "Digite o 2º número: 2\n",
            "Digite o 3º número: 3\n",
            "Digite o 4º número: 2\n",
            "Digite o 5º número: 5\n",
            "Digite o 6º número: 6\n",
            "Foi digitado 4 números pares, sendo eles: [4, 2, 2, 6]\n",
            "A soma dos valores pares é: 14\n",
            "O maior elemento dos pares é: 6\n",
            "---------------------------------------------\n",
            "Foi digitado 2 números impares, sendo eles: [3, 5]\n",
            "A soma dos valores impares é: 8\n",
            "O maior elemento dos impares é: 5\n"
          ]
        }
      ]
    },
    {
      "cell_type": "markdown",
      "source": [
        "### Questão 2: faça um programa em Python para gerar automaticamente números entre 0 e 99 de uma cartela de bingo. Sabendo que cada cartela devera conter 5 linhas de 5 números, gere estes dados de modo a nao ter números repetidos dentro das cartelas. O programa deve exibir na tela a cartela gerada."
      ],
      "metadata": {
        "id": "WdflJTbNs1nN"
      }
    },
    {
      "cell_type": "code",
      "source": [
        "import random\n",
        "def gerar_cartela():\n",
        "  numeros = set()\n",
        "  cartela = []\n",
        "  for i in range(5):\n",
        "    numero = random.randint(0,99)\n",
        "    while numero in numeros:\n",
        "      numero = random.randint(0,99)\n",
        "\n",
        "    numeros.add(numero)\n",
        "    cartela.append(numero)\n",
        "\n",
        "  return cartela\n",
        "\n",
        "\n",
        "def main():\n",
        "  cartela = gerar_cartela()\n",
        "  print('Cartela de bingo: ')\n",
        "  for linha in cartela:\n",
        "    print(linha)\n",
        "\n",
        "if __name__ == '__main__':\n",
        "  main()"
      ],
      "metadata": {
        "colab": {
          "base_uri": "https://localhost:8080/"
        },
        "id": "JOQgVaeJtf3y",
        "outputId": "dfb15873-3c0a-438d-b2f2-bb26943bf22d"
      },
      "execution_count": 31,
      "outputs": [
        {
          "output_type": "stream",
          "name": "stdout",
          "text": [
            "Cartela de bingo: \n",
            "59\n",
            "75\n",
            "90\n",
            "28\n",
            "84\n"
          ]
        }
      ]
    },
    {
      "cell_type": "markdown",
      "source": [
        "### Questão 3: Crie um dicionário que é uma agenda e coloque nele os seguintes dados: chave (cpf), nome, idadem telefone. O programa deve ler um número ideterminado de dados, criar a agendar e imprimir todos os itens do dicionário no formato chave: nome, idade, fone."
      ],
      "metadata": {
        "id": "qeF-fY8LydEe"
      }
    },
    {
      "cell_type": "code",
      "source": [
        "def main():\n",
        "  agenda = {}\n",
        "\n",
        "  while True:\n",
        "    cpf = input('Digite o cpf: ')\n",
        "    nome = input('Digite o nome: ')\n",
        "    idade = input('Digite a idade: ')\n",
        "    telefone = input('Digite o telefone: ')\n",
        "\n",
        "    agenda[cpf] = {\n",
        "      'nome': nome,\n",
        "      'idade': idade,\n",
        "      'telefone': telefone,\n",
        "    }\n",
        "\n",
        "    continuar = input('Deseja continuar? (s/n): ')\n",
        "    if continuar != 's':\n",
        "      break\n",
        "\n",
        "  for cpf, contato in agenda.items():\n",
        "    print(cpf, contato['nome'], contato['idade'], contato['telefone'])\n",
        "\n",
        "if __name__ == '__main__':\n",
        "  main()\n"
      ],
      "metadata": {
        "colab": {
          "base_uri": "https://localhost:8080/"
        },
        "id": "443bKVUAybjo",
        "outputId": "9d5fbfe0-0ea2-4cee-f48d-fddea1c53977"
      },
      "execution_count": 32,
      "outputs": [
        {
          "output_type": "stream",
          "name": "stdout",
          "text": [
            "Digite o cpf: 12345\n",
            "Digite o nome: hermano\n",
            "Digite a idade: 14\n",
            "Digite o telefone: 232323\n",
            "Deseja continuar? (s/n): n\n",
            "12345 hermano 14 232323\n"
          ]
        }
      ]
    },
    {
      "cell_type": "markdown",
      "source": [
        "# Aula 6"
      ],
      "metadata": {
        "id": "6Kt2RQMymJ8c"
      }
    },
    {
      "cell_type": "markdown",
      "source": [
        "## Roteiro\n",
        "  - Carreiras e profissões nas áreas de dados e IA. [visão geral e oportunidades]\n",
        "    - Analista de dados\n",
        "    - Cientista de dados, etc\n",
        "\n",
        "  - Paradigma orientado a objetos\n",
        "    - {linguagem java}\n",
        "      - Classes abstratas, interface, herança simples e multiplas, agregação, composição, sobre carga de atributos e métodos, padões: abstract factory, factory method, façade, etc.\n",
        "      "
      ],
      "metadata": {
        "id": "OFiteVv7miL_"
      }
    },
    {
      "cell_type": "markdown",
      "source": [
        "###\n",
        "\n",
        "- Analista de dados       \n",
        "  -                       { - Negócios, BI.\n",
        "  - JUNIOR - 3,5K - 5K    { - Banco de dados(SQL, NOSQL)\n",
        "  - PLENO - 6K - 9K       { - Estatisticas básicas\n",
        "  - SENIOR - 9K - 12K     { - Tecnologia TI\n",
        "\n",
        "- Analista de dados       { - Negócios\n",
        "  - JUNIOR - 5K - 7K      { - TI, programação avançada, devops, mlops\n",
        "  - PLENO - 7,5K - 13K    { - Cloud, big data, data lake, lake house, etc\n",
        "  - SENIOR - 14K - 22K    { - Hive, sqoop, nifi, airflow, spark, flink.\n",
        "\n",
        "- Cientista de dados      { - Negócios, BI.\n",
        "  - JUNIOR - 6K - 9K      { - Estatistica e matemática avançados\n",
        "  - PLENO - 9K - 15K      { - TI, bancos avançados\n",
        "  - SENIOR - 15K - 30K    { - Frameworks e ferramentas\n",
        "\n",
        "- Engenheiro de blockchain   { - Negócios, (solidity, golang, java, python)\n",
        "  -  JUNIOR - 10K - 15K      { - Programação\n",
        "  -  PLENO - 15K - 25K       { - Bancos, API, REST\n",
        "  -  SENIOR - 25K - 40K      { - Frameworks e ferramentas\n",
        "\n",
        "\n",
        "- Engenheiro de machine learning   \n",
        "  -  JUNIOR - 30% do projeto    { - Full stack, devops, mlops\n",
        "  -  PLENO - 35% do projeto     { - CI, AN, ENG. dados\n",
        "  -  SENIOR - 40% do projeto    { - Fluxo e orq. de dados, etc..."
      ],
      "metadata": {
        "id": "yX_q12v6ogn4"
      }
    }
  ]
}